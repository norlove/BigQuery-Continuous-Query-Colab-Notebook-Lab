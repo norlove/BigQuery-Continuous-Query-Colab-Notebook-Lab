{
  "cells": [
    {
      "cell_type": "code",
      "execution_count": null,
      "metadata": {
        "id": "cMQCs0oQf5Jo"
      },
      "outputs": [],
      "source": [
        "# Copyright 2025 Google LLC\n",
        "#\n",
        "# Licensed under the Apache License, Version 2.0 (the \"License\");\n",
        "# you may not use this file except in compliance with the License.\n",
        "# You may obtain a copy of the License at\n",
        "#\n",
        "#     https://www.apache.org/licenses/LICENSE-2.0\n",
        "#\n",
        "# Unless required by applicable law or agreed to in writing, software\n",
        "# distributed under the License is distributed on an \"AS IS\" BASIS,\n",
        "# WITHOUT WARRANTIES OR CONDITIONS OF ANY KIND, either express or implied.\n",
        "# See the License for the specific language governing permissions and\n",
        "# limitations under the License."
      ]
    },
    {
      "cell_type": "markdown",
      "metadata": {
        "id": "iR0jdheRGG89"
      },
      "source": [
        "# BigQuery Streaming Reverse ETL into Pub/Sub\n",
        "\n"
      ]
    },
    {
      "cell_type": "markdown",
      "metadata": {
        "id": "EiKsD6FM5i0m"
      },
      "source": [
        "| Author |\n",
        "| --- |\n",
        "| [Nick Orlove](https://github.com/norlove) |"
      ]
    },
    {
      "cell_type": "markdown",
      "metadata": {
        "id": "intro_md"
      },
      "source": [
        "## Overview\n",
        "\n",
        "## Overview\n",
        "\n",
        "This notebook provides a hands-on example of BigQuery's capability to perform **Streaming Reverse ETL into Pub/Sub**. You'll learn how BigQuery can continuously query data from a source table and stream the results to a Pub/Sub topic in near real-time using a [BigQuery continuous query](https://cloud.google.com/bigquery/docs/continuous-queries-introduction).\n",
        "\n",
        "Traditionally, ETL (Extract, Transform, Load) moves data into a data warehouse. Reverse ETL, on the other hand, moves data *out* of the data warehouse to operational systems or applications.\n",
        "\n",
        "This notebook demonstrates how BigQuery's continuous query feature, combined with Pub/Sub, enables a powerful Streaming Reverse ETL pattern for real-time event-based handling of data. This allows for immediate consumption of transformed or filtered data by downstream services, enabling real-time analytics, personalized experiences, or operational alerts based on the freshest data in BigQuery."
      ]
    },
    {
      "cell_type": "markdown",
      "metadata": {
        "id": "SwQLISjqGTHd"
      },
      "source": [
        "### Objectives\n",
        "\n",
        "You will learn to:\n",
        "\n",
        "*   Set up a BigQuery continuous query and CONTINUOUS slot reservation.\n",
        "*   Stream data from BigQuery to a Pub/Sub topic in near real-time.\n",
        "*   Understand the concept of Streaming Reverse ETL and its applications.\n",
        "*   Verify the streamed data is successfully arriving in Pub/Sub."
      ]
    },
    {
      "cell_type": "markdown",
      "metadata": {
        "id": "costs_md"
      },
      "source": [
        "### Services and Costs\n",
        "\n",
        "This tutorial uses the following billable components of Google Cloud:\n",
        "\n",
        "* **BigQuery**: [Pricing](https://cloud.google.com/bigquery/pricing)\n",
        "\n",
        "* **Pub/Sub**: [Pricing](https://cloud.google.com/pubsub/pricing)\n",
        "\n",
        "You can use the [Pricing Calculator](https://cloud.google.com/products/calculator) to generate a cost estimate based on your projected usage."
      ]
    },
    {
      "cell_type": "markdown",
      "metadata": {
        "id": "nkoCFoFVSPii"
      },
      "source": [
        "---\n",
        "\n",
        "## Before you begin"
      ]
    },
    {
      "cell_type": "markdown",
      "metadata": {
        "id": "setup_md_1"
      },
      "source": [
        "### Set up your Google Cloud project\n",
        "**The following steps are required, regardless of your notebook environment.**\n",
        "\n",
        "1. [Select or create a Google Cloud project](https://console.cloud.google.com/cloud-resource-manager). When you first create an account, you get a $300 free credit towards your compute/storage costs.\n",
        "\n",
        "2. [Make sure that billing is enabled for your project](https://cloud.google.com/billing/docs/how-to/modify-project).\n",
        "\n",
        "3. [Enable the BigQuery and Pub/Sub APIs](https://console.cloud.google.com/flows/enableapi?apiid=bigquery.googleapis.com,pubsub.googleapis.com).\n",
        "\n",
        "4. If you are running this notebook locally, you need to install the [Cloud SDK](https://cloud.google.com/sdk)."
      ]
    },
    {
      "cell_type": "markdown",
      "source": [
        "Install and upgrade the `bigquery-magics`, `bigframes`, and Pub/Sub libraries. `bigquery-magics` provides convenient IPython magic commands for BigQuery, while `bigframes` enables scalable data analysis with a DataFrame API directly on BigQuery data.\n"
      ],
      "metadata": {
        "id": "qi_4egwFSkwN"
      }
    },
    {
      "cell_type": "code",
      "source": [
        "%pip install --upgrade bigquery-magics\n",
        "%pip install --upgrade bigframes\n",
        "%pip install google-cloud-pubsub"
      ],
      "metadata": {
        "collapsed": true,
        "id": "_MKAfST5SnyJ",
        "colab": {
          "base_uri": "https://localhost:8080/"
        },
        "outputId": "e60b8e01-cf5d-49af-ee48-3d6d8bab0430"
      },
      "execution_count": 3,
      "outputs": [
        {
          "output_type": "stream",
          "name": "stdout",
          "text": [
          ]
        }
      ]
    },
    {
      "cell_type": "markdown",
      "metadata": {
        "id": "YQ3g-h7uTaSf"
      },
      "source": [
        "### Set your project ID"
      ]
    },
    {
      "cell_type": "code",
      "execution_count": 4,
      "metadata": {
        "id": "set_project_id",
        "colab": {
          "base_uri": "https://localhost:8080/"
        },
        "outputId": "dd73f187-b5e6-4852-ad2d-c20cdd436ce7"
      },
      "outputs": [
        {
          "output_type": "stream",
          "name": "stdout",
          "text": [
            "Updated property [core/project].\n"
          ]
        }
      ],
      "source": [
        "PROJECT_ID = \"my-project\"  # @param {type:\"string\"}\n",
        "\n",
        "# Set the project id\n",
        "! gcloud config set project {PROJECT_ID}"
      ]
    },
    {
      "cell_type": "markdown",
      "metadata": {
        "id": "auth_md"
      },
      "source": [
        "### Authenticate to your Google Cloud account\n",
        "\n",
        "Depending on your Jupyter environment, you may have to manually authenticate. Follow the relevant instructions below."
      ]
    },
    {
      "cell_type": "markdown",
      "metadata": {
        "id": "V6NjZRCXU5Ro"
      },
      "source": [
        "**1. Colab Enterprise in BigQuery Studio or Vertex AI**\n",
        "* Do nothing as you are already authenticated."
      ]
    },
    {
      "cell_type": "markdown",
      "metadata": {
        "id": "l0dV1hvAU1ed"
      },
      "source": [
        "**2. Colab Consumer - uncomment and run the following:**"
      ]
    },
    {
      "cell_type": "code",
      "execution_count": null,
      "metadata": {
        "id": "auth_code"
      },
      "outputs": [],
      "source": [
        "from google.colab import auth\n",
        "auth.authenticate_user()"
      ]
    },
    {
      "cell_type": "markdown",
      "metadata": {
        "id": "4Pp4LAJ3UyRP"
      },
      "source": [
        "**3. Local JupyterLab instance, uncomment and run the following:**\n",
        "\n"
      ]
    },
    {
      "cell_type": "code",
      "execution_count": null,
      "metadata": {
        "id": "AzU7S3fMVDkW"
      },
      "outputs": [],
      "source": [
        "# ! gcloud auth login"
      ]
    },
    {
      "cell_type": "markdown",
      "metadata": {
        "id": "perms_md"
      },
      "source": [
        "### Create a Service Account and set permissions for it\n",
        "\n",
        "In order to run a continuous query with exports to Pub/Sub, you must use a service account. For more information, see [continuous queries documentation](https://cloud.google.com/bigquery/docs/continuous-queries#choose_an_account_type).\n",
        "\n",
        "Keep in mind, to submit a job that runs using a service account, the user account must have the [Service Account User (roles/iam.serviceAccountUser)](https://cloud.google.com/iam/docs/service-account-permissions#user-role) role."
      ]
    },
    {
      "cell_type": "code",
      "execution_count": 5,
      "metadata": {
        "id": "perms_code",
        "colab": {
          "base_uri": "https://localhost:8080/"
        },
        "outputId": "2bdf570e-2d71-4db2-cb61-a6ff98583a27"
      },
      "outputs": [
        {
          "output_type": "stream",
          "name": "stdout",
          "text": [
            "Creating service account: bq-continuous-query-demo-sa...\n",
            "\n",
            "Assigning necessary IAM roles to bq-continuous-query-demo-sa@my-project.iam.gserviceaccount.com...\n",
            "\n",
            "✅ Successfully created service account and assigned permissions.\n"
          ]
        }
      ],
      "source": [
        "import time\n",
        "import os\n",
        "\n",
        "# Define a unique name for the service account\n",
        "SERVICE_ACCOUNT_ID = \"bq-continuous-query-demo-sa\"\n",
        "\n",
        "# Construct the full email address for the service account\n",
        "SERVICE_ACCOUNT_EMAIL = f\"{SERVICE_ACCOUNT_ID}@{PROJECT_ID}.iam.gserviceaccount.com\"\n",
        "\n",
        "print(f\"Creating service account: {SERVICE_ACCOUNT_ID}...\")\n",
        "\n",
        "# Create the service account using gcloud\n",
        "! gcloud iam service-accounts create {SERVICE_ACCOUNT_ID} \\\n",
        "    --display-name=\"BigQuery continuous query to Pub/Sub Export Demo\" \\\n",
        "    --description=\"Service account for the BigQuery continuous query to Pub/Sub tutorial\" > /dev/null 2>&1\n",
        "\n",
        "print(f\"\\nAssigning necessary IAM roles to {SERVICE_ACCOUNT_EMAIL}...\")\n",
        "\n",
        "# Assign the BigQuery User role\n",
        "! gcloud projects add-iam-policy-binding {PROJECT_ID} \\\n",
        "    --member=\"serviceAccount:{SERVICE_ACCOUNT_EMAIL}\" \\\n",
        "    --role=\"roles/bigquery.user\" \\\n",
        "    --condition=None \\\n",
        "    --quiet > /dev/null 2>&1\n",
        "\n",
        "# Assign the BigQuery Data Editor role\n",
        "! gcloud projects add-iam-policy-binding {PROJECT_ID} \\\n",
        "    --member=\"serviceAccount:{SERVICE_ACCOUNT_EMAIL}\" \\\n",
        "    --role=\"roles/bigquery.dataEditor\" \\\n",
        "    --condition=None \\\n",
        "    --quiet > /dev/null 2>&1\n",
        "\n",
        "# Assign the Pub/Sub Publisher role\n",
        "! gcloud projects add-iam-policy-binding {PROJECT_ID} \\\n",
        "    --member=\"serviceAccount:{SERVICE_ACCOUNT_EMAIL}\" \\\n",
        "    --role=\"roles/pubsub.publisher\" \\\n",
        "    --condition=None \\\n",
        "    --quiet > /dev/null 2>&1\n",
        "\n",
        "# Assign the Pub/Sub Viewer role\n",
        "! gcloud projects add-iam-policy-binding {PROJECT_ID} \\\n",
        "    --member=\"serviceAccount:{SERVICE_ACCOUNT_EMAIL}\" \\\n",
        "    --role=\"roles/pubsub.viewer\" \\\n",
        "    --condition=None \\\n",
        "    --quiet > /dev/null 2>&1\n",
        "\n",
        "print(f\"\\n✅ Successfully created service account and assigned permissions.\")\n",
        "\n",
        "# Wait ~60 seconds, to give IAM updates time to propagate. Otherwise, subsequent cells may fail.\n",
        "time.sleep(60)"
      ]
    },
    {
      "cell_type": "markdown",
      "source": [
        "### Create a Pub/Sub topic and subscription for the continuous query to write to.\n",
        "\n",
        "Next, we need a destination for our continuous query's output. We'll create a Pub/Sub topic, which is where the query will stream data to.\n",
        "\n",
        "To verify that data is arriving correctly, we'll also create a Pub/Sub subscription. A subscription allows us to listen to the messages sent to the topic. Later, we'll use this subscription to pull messages and confirm our end-to-end pipeline is working."
      ],
      "metadata": {
        "id": "HEKljbZxMBT_"
      }
    },
    {
      "cell_type": "code",
      "source": [
        "# Define unique names for your Pub/Sub topic and subscription.\n",
        "TOPIC_ID = \"cq_results_topic\"\n",
        "SUBSCRIPTION_ID = \"cq_results_viewer_sub\"\n",
        "\n",
        "print(f\"Creating Pub/Sub topic: {TOPIC_ID}...\")\n",
        "\n",
        "# Create the Pub/Sub topic using the gcloud CLI\n",
        "! gcloud pubsub topics create {TOPIC_ID}\n",
        "\n",
        "print(f\"\\nCreating Pub/Sub subscription: {SUBSCRIPTION_ID}...\")\n",
        "\n",
        "# Create a subscription attached to the topic\n",
        "! gcloud pubsub subscriptions create {SUBSCRIPTION_ID} --topic={TOPIC_ID}\n",
        "\n",
        "print(f\"\\n✅ Successfully created topic '{TOPIC_ID}' and subscription '{SUBSCRIPTION_ID}'.\")"
      ],
      "metadata": {
        "id": "yWKrcj-fMAh7",
        "colab": {
          "base_uri": "https://localhost:8080/"
        },
        "outputId": "f3470742-4641-47ad-8f88-7cc45c743722"
      },
      "execution_count": 6,
      "outputs": [
        {
          "output_type": "stream",
          "name": "stdout",
          "text": [
            "Creating Pub/Sub topic: cq_results_topic...\n",
            "Created topic [projects/my-project/topics/cq_results_topic].\n",
            "\n",
            "Creating Pub/Sub subscription: cq_results_viewer_sub...\n",
            "Created subscription [projects/my-project/subscriptions/cq_results_viewer_sub].\n",
            "\n",
            "✅ Successfully created topic 'cq_results_topic' and subscription 'cq_results_viewer_sub'.\n"
          ]
        }
      ]
    },
    {
      "cell_type": "markdown",
      "metadata": {
        "id": "-fhqCNYQOLCq"
      },
      "source": [
        "### Create a Source BigQuery Dataset and Table\n",
        "\n",
        "Now that we have a destination for our data (the Pub/Sub topic), we need a source. A continuous query reads data from a BigQuery table as new rows are added."
      ]
    },
    {
      "cell_type": "code",
      "execution_count": 7,
      "metadata": {
        "id": "ZR9S5lgpOGDr",
        "colab": {
          "base_uri": "https://localhost:8080/",
          "height": 85,
          "referenced_widgets": [
            "6de85c89e5be4d2ab0ea085512c9d722",
            "9cb58e8323034f04ba9bcd8ced8ad793",
            "9d074e8dfa7d491ba3c500401215a12b",
            "3fdcda6abd40476f855ddb360ae11e90",
            "4f7dd424777e43569187178917c69be2",
            "20340ac3bea848f59ccb07bfdf8e781c",
            "258f9ef8c93d46888ec10ef8f4f1fc70",
            "e8031c47fe26435299569d5f24fd5c25",
            "558a3d8dd0024b4fa5ebb08d11f8da7b",
            "5fe0ef3c6f1544979dc156ba51efb078",
            "9dc6e8bcb9424d04ba7751e24c9f90e9"
          ]
        },
        "outputId": "75d1bc07-33ae-4f51-a7ab-6a4b3711a013"
      },
      "outputs": [
        {
          "output_type": "display_data",
          "data": {
            "text/plain": [
              "Query is running:   0%|          |"
            ],
            "application/vnd.jupyter.widget-view+json": {
              "version_major": 2,
              "version_minor": 0,
              "model_id": "6de85c89e5be4d2ab0ea085512c9d722"
            }
          },
          "metadata": {}
        },
        {
          "output_type": "execute_result",
          "data": {
            "text/plain": [
              "Empty DataFrame\n",
              "Columns: []\n",
              "Index: []"
            ],
            "text/html": [
              "\n",
              "  <div id=\"df-8642037a-cfe1-4aeb-b8e0-9b3bd601d241\" class=\"colab-df-container\">\n",
              "    <div>\n",
              "<style scoped>\n",
              "    .dataframe tbody tr th:only-of-type {\n",
              "        vertical-align: middle;\n",
              "    }\n",
              "\n",
              "    .dataframe tbody tr th {\n",
              "        vertical-align: top;\n",
              "    }\n",
              "\n",
              "    .dataframe thead th {\n",
              "        text-align: right;\n",
              "    }\n",
              "</style>\n",
              "<table border=\"1\" class=\"dataframe\">\n",
              "  <thead>\n",
              "    <tr style=\"text-align: right;\">\n",
              "      <th></th>\n",
              "    </tr>\n",
              "  </thead>\n",
              "  <tbody>\n",
              "  </tbody>\n",
              "</table>\n",
              "</div>\n",
              "    <div class=\"colab-df-buttons\">\n",
              "\n",
              "  <div class=\"colab-df-container\">\n",
              "    <button class=\"colab-df-convert\" onclick=\"convertToInteractive('df-8642037a-cfe1-4aeb-b8e0-9b3bd601d241')\"\n",
              "            title=\"Convert this dataframe to an interactive table.\"\n",
              "            style=\"display:none;\">\n",
              "\n",
              "  <svg xmlns=\"http://www.w3.org/2000/svg\" height=\"24px\" viewBox=\"0 -960 960 960\">\n",
              "    <path d=\"M120-120v-720h720v720H120Zm60-500h600v-160H180v160Zm220 220h160v-160H400v160Zm0 220h160v-160H400v160ZM180-400h160v-160H180v160Zm440 0h160v-160H620v160ZM180-180h160v-160H180v160Zm440 0h160v-160H620v160Z\"/>\n",
              "  </svg>\n",
              "    </button>\n",
              "\n",
              "  <style>\n",
              "    .colab-df-container {\n",
              "      display:flex;\n",
              "      gap: 12px;\n",
              "    }\n",
              "\n",
              "    .colab-df-convert {\n",
              "      background-color: #E8F0FE;\n",
              "      border: none;\n",
              "      border-radius: 50%;\n",
              "      cursor: pointer;\n",
              "      display: none;\n",
              "      fill: #1967D2;\n",
              "      height: 32px;\n",
              "      padding: 0 0 0 0;\n",
              "      width: 32px;\n",
              "    }\n",
              "\n",
              "    .colab-df-convert:hover {\n",
              "      background-color: #E2EBFA;\n",
              "      box-shadow: 0px 1px 2px rgba(60, 64, 67, 0.3), 0px 1px 3px 1px rgba(60, 64, 67, 0.15);\n",
              "      fill: #174EA6;\n",
              "    }\n",
              "\n",
              "    .colab-df-buttons div {\n",
              "      margin-bottom: 4px;\n",
              "    }\n",
              "\n",
              "    [theme=dark] .colab-df-convert {\n",
              "      background-color: #3B4455;\n",
              "      fill: #D2E3FC;\n",
              "    }\n",
              "\n",
              "    [theme=dark] .colab-df-convert:hover {\n",
              "      background-color: #434B5C;\n",
              "      box-shadow: 0px 1px 3px 1px rgba(0, 0, 0, 0.15);\n",
              "      filter: drop-shadow(0px 1px 2px rgba(0, 0, 0, 0.3));\n",
              "      fill: #FFFFFF;\n",
              "    }\n",
              "  </style>\n",
              "\n",
              "    <script>\n",
              "      const buttonEl =\n",
              "        document.querySelector('#df-8642037a-cfe1-4aeb-b8e0-9b3bd601d241 button.colab-df-convert');\n",
              "      buttonEl.style.display =\n",
              "        google.colab.kernel.accessAllowed ? 'block' : 'none';\n",
              "\n",
              "      async function convertToInteractive(key) {\n",
              "        const element = document.querySelector('#df-8642037a-cfe1-4aeb-b8e0-9b3bd601d241');\n",
              "        const dataTable =\n",
              "          await google.colab.kernel.invokeFunction('convertToInteractive',\n",
              "                                                    [key], {});\n",
              "        if (!dataTable) return;\n",
              "\n",
              "        const docLinkHtml = 'Like what you see? Visit the ' +\n",
              "          '<a target=\"_blank\" href=https://colab.research.google.com/notebooks/data_table.ipynb>data table notebook</a>'\n",
              "          + ' to learn more about interactive tables.';\n",
              "        element.innerHTML = '';\n",
              "        dataTable['output_type'] = 'display_data';\n",
              "        await google.colab.output.renderOutput(dataTable, element);\n",
              "        const docLink = document.createElement('div');\n",
              "        docLink.innerHTML = docLinkHtml;\n",
              "        element.appendChild(docLink);\n",
              "      }\n",
              "    </script>\n",
              "  </div>\n",
              "\n",
              "\n",
              "    </div>\n",
              "  </div>\n"
            ],
            "application/vnd.google.colaboratory.intrinsic+json": {
              "type": "dataframe",
              "summary": "{\n  \"name\": \"get_ipython()\",\n  \"rows\": 0,\n  \"fields\": []\n}"
            }
          },
          "metadata": {},
          "execution_count": 7
        }
      ],
      "source": [
        "%%bigquery --project {PROJECT_ID}\n",
        "\n",
        "-- This statement creates a new dataset to hold our source table.\n",
        "CREATE SCHEMA IF NOT EXISTS `cq_source_dataset`\n",
        "OPTIONS (\n",
        "  location = 'US',\n",
        "  description = 'Dataset for the continuous query source table.'\n",
        ");\n",
        "\n",
        "-- This statement creates the source table with a defined schema.\n",
        "CREATE OR REPLACE TABLE `cq_source_dataset.user_clicks`\n",
        "(\n",
        "  event_timestamp TIMESTAMP NOT NULL OPTIONS(description=\"The exact time of the user event.\"),\n",
        "  user_id STRING NOT NULL OPTIONS(description=\"The unique identifier for the user.\"),\n",
        "  product_id STRING OPTIONS(description=\"The identifier for the product clicked.\"),\n",
        "  value FLOAT64 OPTIONS(description=\"The value of the product the user clicked on.\")\n",
        ");"
      ]
    },
    {
      "cell_type": "markdown",
      "metadata": {
        "id": "a2xG-u0qaLuG"
      },
      "source": [
        "### Create a BigQuery CONTINUOUS Slot Reservation\n",
        "\n",
        "Continuous queries must run in their own dedicated BigQuery reservation with a CONTINUOUS job type. You can't run them using the on-demand billing model.\n",
        "\n",
        "A reservation is a dedicated pool of BigQuery processing power (slots). For this demo, we'll create a reservation that uses autoscaling. It will have 0 baseline slots and will automatically scale up to a maximum of 50 slots as needed to run our query. An assignment links this reservation to our project, telling BigQuery to use this specific slot pool for any jobs of type CONTINUOUS.\n",
        "\n",
        "**Note**: After a continuous query starts running, it actively listens for incoming data, which consumes slot resources. While a reservation with a running continuous query does not scale down to zero slots, an idle continuous query that is primarily listening for incoming data is expected to consume a minimal amount of slots, typically around 1 slot."
      ]
    },
    {
      "cell_type": "code",
      "execution_count": 8,
      "metadata": {
        "id": "1JY3WhVBKT8c",
        "colab": {
          "base_uri": "https://localhost:8080/"
        },
        "outputId": "55e185f7-38b3-4397-d60a-ce66eacaafa4"
      },
      "outputs": [
        {
          "output_type": "stream",
          "name": "stdout",
          "text": [
            "Executing query with job ID: a8230881-5b38-470d-8746-84f0fa557b2d\n",
            "\rQuery executing: 0.25s"
          ]
        }
      ],
      "source": [
        "%%bigquery --project {PROJECT_ID} --pyformat\n",
        "\n",
        "-- This statement creates a new reservation with 0 baseline slots\n",
        "-- and the ability to autoscale up to 50 slots.\n",
        "CREATE RESERVATION `region-US.cq-demo-reservation`\n",
        "OPTIONS(\n",
        "  edition = 'ENTERPRISE',\n",
        "  slot_capacity = 0, -- Baseline slots\n",
        "  autoscale_max_slots = 50\n",
        ");\n",
        "\n",
        "-- This statement assigns the reservation to the current project specifically for\n",
        "-- continuous query jobs. The job_type MUST be 'CONTINUOUS'.\n",
        "CREATE ASSIGNMENT `region-US.cq-demo-reservation.cq-assignment`\n",
        "OPTIONS(\n",
        "  assignee = 'projects/{PROJECT_ID}',\n",
        "  job_type = 'CONTINUOUS'\n",
        ");"
      ]
    },
    {
      "cell_type": "markdown",
      "source": [
        "Wait ~180 seconds, to give the BigQuery reservation time to propagate. Otherwise, subsequent cells may fail.\n"
      ],
      "metadata": {
        "id": "8LzLF8W8-aFr"
      }
    },
    {
      "cell_type": "code",
      "source": [
        "import time\n",
        "\n",
        "time.sleep(180)"
      ],
      "metadata": {
        "id": "3ji1DP-U-T3i"
      },
      "execution_count": 9,
      "outputs": []
    },
    {
      "cell_type": "markdown",
      "metadata": {
        "id": "F_bbC8thoHGU"
      },
      "source": [
        "### Start inserting some random data into the source table\n",
        "\n",
        "The following cell streams some data into BigQuery. It:\n",
        "\n",
        "1. Generates a random user ID, product ID, and value.\n",
        "\n",
        "2. Captures the current timestamp.\n",
        "\n",
        "3. Inserts this data as a new row into the user_clicks table.\n",
        "\n",
        "This will insert 100 records into the BigQuery table.\n",
        "\n"
      ]
    },
    {
      "cell_type": "code",
      "execution_count": 10,
      "metadata": {
        "id": "YLqRk757KT3O",
        "colab": {
          "base_uri": "https://localhost:8080/"
        },
        "outputId": "ece36afe-e7ba-4cf7-f7b4-8cd92e217e6b"
      },
      "outputs": [
        {
          "output_type": "stream",
          "name": "stdout",
          "text": [
            "Generating 100 synthetic records in memory...\n",
            "Generation complete. Inserting rows into BigQuery as a single batch...\n",
            "✅ Successfully inserted 100 rows into the table.\n"
          ]
        }
      ],
      "source": [
        "import random\n",
        "from datetime import datetime\n",
        "from google.cloud import bigquery\n",
        "\n",
        "# --- Configuration ---\n",
        "# Ensure your PROJECT_ID variable is set correctly in your notebook environment\n",
        "# PROJECT_ID = \"your-gcp-project-id\"\n",
        "TABLE_ID = f\"{PROJECT_ID}.cq_source_dataset.user_clicks\"\n",
        "NUM_RECORDS = 100\n",
        "\n",
        "# --- Client and Data Setup ---\n",
        "client = bigquery.Client()\n",
        "sample_user_ids = [f\"user_{i}\" for i in range(100, 120)]\n",
        "sample_product_ids = [f\"product_{i}\" for i in range(2000, 2050)]\n",
        "rows_to_insert = []\n",
        "\n",
        "print(f\"Generating {NUM_RECORDS} synthetic records in memory...\")\n",
        "\n",
        "# 1. Create all 100 records and add them to a list\n",
        "for _ in range(NUM_RECORDS):\n",
        "    row = {\n",
        "        \"user_id\": random.choice(sample_user_ids),\n",
        "        \"product_id\": random.choice(sample_product_ids),\n",
        "        \"event_timestamp\": datetime.utcnow().isoformat() + \"Z\",  # 'Z' for UTC timezone\n",
        "        \"value\": round(random.uniform(0, 100), 2),\n",
        "    }\n",
        "    rows_to_insert.append(row)\n",
        "\n",
        "print(\"Generation complete. Inserting rows into BigQuery as a single batch...\")\n",
        "\n",
        "# 2. Insert all records in one API call\n",
        "errors = client.insert_rows_json(TABLE_ID, rows_to_insert)\n",
        "\n",
        "# 3. Report the final result\n",
        "if not errors:\n",
        "    print(f\"✅ Successfully inserted {len(rows_to_insert)} rows into the table.\")\n",
        "else:\n",
        "    print(f\"❌ Encountered errors while inserting rows: {errors}\")"
      ]
    },
    {
      "cell_type": "markdown",
      "source": [
        "Run a basic query against our table to varify it is receiving data."
      ],
      "metadata": {
        "id": "yVZM4GqiT13G"
      }
    },
    {
      "cell_type": "code",
      "source": [
        "%%bigquery --project {PROJECT_ID}\n",
        "\n",
        "SELECT\n",
        "  *\n",
        "FROM\n",
        "  `cq_source_dataset.user_clicks`\n",
        "ORDER BY event_timestamp DESC\n",
        "LIMIT 10;"
      ],
      "metadata": {
        "id": "zADTlC6uT8qA",
        "colab": {
          "base_uri": "https://localhost:8080/",
          "height": 427,
          "referenced_widgets": [
            "7cfa0176bc824c14b326ca75953bfa8f",
            "5ab3901812af413aac40376c6e4ace28",
            "efceb2bc0adc4116b15226738a8b6e41",
            "21ce2595111142a2ad5ca77cfb1a597e",
            "08bf6d0776b544a081c3b809b91acd0f",
            "df1ba171eb8247ef86a904e70d56b00e",
            "c0eab2be8d2d4d1f8de14f7c97c5a914",
            "f8f9691489f14e56aed8deb0b376c3af",
            "aa6e58ec5a754e4594bc54ba19c9712a",
            "6e46b62ef18c46389c5b3f4b6a4b72bf",
            "6f6c412204b843fda2661d3bf1605635",
            "34cacbffc9f144b7979a14343c4723b2",
            "b5760d93572d4c38bb0a10920e1f50f5",
            "f4cad61c16d04158bfa1c323754b1d47",
            "9eeb6650a14643bd99ea78e9684c5d5e",
            "d5c4e0251369414ca863c1042a1f8623",
            "36ad6af7fabc48a79f2ce084f8fdd538",
            "77242e9ed33c4ee2be52ebdf674403d2",
            "1378a6e38d664a488f5b1f60e93d2523",
            "fcd7ea7ffaea4fa88264094639031cfe",
            "f82444d396de450492883ae063cd616f",
            "38042efe5a334cceaa3ed45f961025ff"
          ]
        },
        "outputId": "20fddd7d-80ba-4142-ed19-0736d1ecafef"
      },
      "execution_count": 11,
      "outputs": [
        {
          "output_type": "display_data",
          "data": {
            "text/plain": [
              "Query is running:   0%|          |"
            ],
            "application/vnd.jupyter.widget-view+json": {
              "version_major": 2,
              "version_minor": 0,
              "model_id": "7cfa0176bc824c14b326ca75953bfa8f"
            }
          },
          "metadata": {}
        },
        {
          "output_type": "display_data",
          "data": {
            "text/plain": [
              "Downloading:   0%|          |"
            ],
            "application/vnd.jupyter.widget-view+json": {
              "version_major": 2,
              "version_minor": 0,
              "model_id": "34cacbffc9f144b7979a14343c4723b2"
            }
          },
          "metadata": {}
        },
        {
          "output_type": "execute_result",
          "data": {
            "text/plain": [
              "                   event_timestamp   user_id    product_id  value\n",
              "0 2025-08-28 19:47:14.899146+00:00  user_108  product_2027  14.59\n",
              "1 2025-08-28 19:47:14.899142+00:00  user_113  product_2046  43.96\n",
              "2 2025-08-28 19:47:14.899137+00:00  user_105  product_2046  11.69\n",
              "3 2025-08-28 19:47:14.899133+00:00  user_118  product_2043  88.59\n",
              "4 2025-08-28 19:47:14.899129+00:00  user_115  product_2025  53.32\n",
              "5 2025-08-28 19:47:14.899125+00:00  user_103  product_2031  39.70\n",
              "6 2025-08-28 19:47:14.899120+00:00  user_113  product_2005   0.91\n",
              "7 2025-08-28 19:47:14.899116+00:00  user_102  product_2031  78.77\n",
              "8 2025-08-28 19:47:14.899112+00:00  user_103  product_2000  10.07\n",
              "9 2025-08-28 19:47:14.899107+00:00  user_107  product_2007  53.02"
            ],
            "text/html": [
              "\n",
              "  <div id=\"df-5d6674f0-5d93-41f5-806a-f5c1bbc308fd\" class=\"colab-df-container\">\n",
              "    <div>\n",
              "<style scoped>\n",
              "    .dataframe tbody tr th:only-of-type {\n",
              "        vertical-align: middle;\n",
              "    }\n",
              "\n",
              "    .dataframe tbody tr th {\n",
              "        vertical-align: top;\n",
              "    }\n",
              "\n",
              "    .dataframe thead th {\n",
              "        text-align: right;\n",
              "    }\n",
              "</style>\n",
              "<table border=\"1\" class=\"dataframe\">\n",
              "  <thead>\n",
              "    <tr style=\"text-align: right;\">\n",
              "      <th></th>\n",
              "      <th>event_timestamp</th>\n",
              "      <th>user_id</th>\n",
              "      <th>product_id</th>\n",
              "      <th>value</th>\n",
              "    </tr>\n",
              "  </thead>\n",
              "  <tbody>\n",
              "    <tr>\n",
              "      <th>0</th>\n",
              "      <td>2025-08-28 19:47:14.899146+00:00</td>\n",
              "      <td>user_108</td>\n",
              "      <td>product_2027</td>\n",
              "      <td>14.59</td>\n",
              "    </tr>\n",
              "    <tr>\n",
              "      <th>1</th>\n",
              "      <td>2025-08-28 19:47:14.899142+00:00</td>\n",
              "      <td>user_113</td>\n",
              "      <td>product_2046</td>\n",
              "      <td>43.96</td>\n",
              "    </tr>\n",
              "    <tr>\n",
              "      <th>2</th>\n",
              "      <td>2025-08-28 19:47:14.899137+00:00</td>\n",
              "      <td>user_105</td>\n",
              "      <td>product_2046</td>\n",
              "      <td>11.69</td>\n",
              "    </tr>\n",
              "    <tr>\n",
              "      <th>3</th>\n",
              "      <td>2025-08-28 19:47:14.899133+00:00</td>\n",
              "      <td>user_118</td>\n",
              "      <td>product_2043</td>\n",
              "      <td>88.59</td>\n",
              "    </tr>\n",
              "    <tr>\n",
              "      <th>4</th>\n",
              "      <td>2025-08-28 19:47:14.899129+00:00</td>\n",
              "      <td>user_115</td>\n",
              "      <td>product_2025</td>\n",
              "      <td>53.32</td>\n",
              "    </tr>\n",
              "    <tr>\n",
              "      <th>5</th>\n",
              "      <td>2025-08-28 19:47:14.899125+00:00</td>\n",
              "      <td>user_103</td>\n",
              "      <td>product_2031</td>\n",
              "      <td>39.70</td>\n",
              "    </tr>\n",
              "    <tr>\n",
              "      <th>6</th>\n",
              "      <td>2025-08-28 19:47:14.899120+00:00</td>\n",
              "      <td>user_113</td>\n",
              "      <td>product_2005</td>\n",
              "      <td>0.91</td>\n",
              "    </tr>\n",
              "    <tr>\n",
              "      <th>7</th>\n",
              "      <td>2025-08-28 19:47:14.899116+00:00</td>\n",
              "      <td>user_102</td>\n",
              "      <td>product_2031</td>\n",
              "      <td>78.77</td>\n",
              "    </tr>\n",
              "    <tr>\n",
              "      <th>8</th>\n",
              "      <td>2025-08-28 19:47:14.899112+00:00</td>\n",
              "      <td>user_103</td>\n",
              "      <td>product_2000</td>\n",
              "      <td>10.07</td>\n",
              "    </tr>\n",
              "    <tr>\n",
              "      <th>9</th>\n",
              "      <td>2025-08-28 19:47:14.899107+00:00</td>\n",
              "      <td>user_107</td>\n",
              "      <td>product_2007</td>\n",
              "      <td>53.02</td>\n",
              "    </tr>\n",
              "  </tbody>\n",
              "</table>\n",
              "</div>\n",
              "    <div class=\"colab-df-buttons\">\n",
              "\n",
              "  <div class=\"colab-df-container\">\n",
              "    <button class=\"colab-df-convert\" onclick=\"convertToInteractive('df-5d6674f0-5d93-41f5-806a-f5c1bbc308fd')\"\n",
              "            title=\"Convert this dataframe to an interactive table.\"\n",
              "            style=\"display:none;\">\n",
              "\n",
              "  <svg xmlns=\"http://www.w3.org/2000/svg\" height=\"24px\" viewBox=\"0 -960 960 960\">\n",
              "    <path d=\"M120-120v-720h720v720H120Zm60-500h600v-160H180v160Zm220 220h160v-160H400v160Zm0 220h160v-160H400v160ZM180-400h160v-160H180v160Zm440 0h160v-160H620v160ZM180-180h160v-160H180v160Zm440 0h160v-160H620v160Z\"/>\n",
              "  </svg>\n",
              "    </button>\n",
              "\n",
              "  <style>\n",
              "    .colab-df-container {\n",
              "      display:flex;\n",
              "      gap: 12px;\n",
              "    }\n",
              "\n",
              "    .colab-df-convert {\n",
              "      background-color: #E8F0FE;\n",
              "      border: none;\n",
              "      border-radius: 50%;\n",
              "      cursor: pointer;\n",
              "      display: none;\n",
              "      fill: #1967D2;\n",
              "      height: 32px;\n",
              "      padding: 0 0 0 0;\n",
              "      width: 32px;\n",
              "    }\n",
              "\n",
              "    .colab-df-convert:hover {\n",
              "      background-color: #E2EBFA;\n",
              "      box-shadow: 0px 1px 2px rgba(60, 64, 67, 0.3), 0px 1px 3px 1px rgba(60, 64, 67, 0.15);\n",
              "      fill: #174EA6;\n",
              "    }\n",
              "\n",
              "    .colab-df-buttons div {\n",
              "      margin-bottom: 4px;\n",
              "    }\n",
              "\n",
              "    [theme=dark] .colab-df-convert {\n",
              "      background-color: #3B4455;\n",
              "      fill: #D2E3FC;\n",
              "    }\n",
              "\n",
              "    [theme=dark] .colab-df-convert:hover {\n",
              "      background-color: #434B5C;\n",
              "      box-shadow: 0px 1px 3px 1px rgba(0, 0, 0, 0.15);\n",
              "      filter: drop-shadow(0px 1px 2px rgba(0, 0, 0, 0.3));\n",
              "      fill: #FFFFFF;\n",
              "    }\n",
              "  </style>\n",
              "\n",
              "    <script>\n",
              "      const buttonEl =\n",
              "        document.querySelector('#df-5d6674f0-5d93-41f5-806a-f5c1bbc308fd button.colab-df-convert');\n",
              "      buttonEl.style.display =\n",
              "        google.colab.kernel.accessAllowed ? 'block' : 'none';\n",
              "\n",
              "      async function convertToInteractive(key) {\n",
              "        const element = document.querySelector('#df-5d6674f0-5d93-41f5-806a-f5c1bbc308fd');\n",
              "        const dataTable =\n",
              "          await google.colab.kernel.invokeFunction('convertToInteractive',\n",
              "                                                    [key], {});\n",
              "        if (!dataTable) return;\n",
              "\n",
              "        const docLinkHtml = 'Like what you see? Visit the ' +\n",
              "          '<a target=\"_blank\" href=https://colab.research.google.com/notebooks/data_table.ipynb>data table notebook</a>'\n",
              "          + ' to learn more about interactive tables.';\n",
              "        element.innerHTML = '';\n",
              "        dataTable['output_type'] = 'display_data';\n",
              "        await google.colab.output.renderOutput(dataTable, element);\n",
              "        const docLink = document.createElement('div');\n",
              "        docLink.innerHTML = docLinkHtml;\n",
              "        element.appendChild(docLink);\n",
              "      }\n",
              "    </script>\n",
              "  </div>\n",
              "\n",
              "\n",
              "<div id=\"df-7b31b8be-718c-49e7-91d9-5ff241254b62\">\n",
              "  <button class=\"colab-df-quickchart\" onclick=\"quickchart('df-7b31b8be-718c-49e7-91d9-5ff241254b62')\"\n",
              "            title=\"Suggest charts\"\n",
              "            style=\"display:none;\">\n",
              "\n",
              "<svg xmlns=\"http://www.w3.org/2000/svg\" height=\"24px\"viewBox=\"0 0 24 24\"\n",
              "     width=\"24px\">\n",
              "    <g>\n",
              "        <path d=\"M19 3H5c-1.1 0-2 .9-2 2v14c0 1.1.9 2 2 2h14c1.1 0 2-.9 2-2V5c0-1.1-.9-2-2-2zM9 17H7v-7h2v7zm4 0h-2V7h2v10zm4 0h-2v-4h2v4z\"/>\n",
              "    </g>\n",
              "</svg>\n",
              "  </button>\n",
              "\n",
              "<style>\n",
              "  .colab-df-quickchart {\n",
              "      --bg-color: #E8F0FE;\n",
              "      --fill-color: #1967D2;\n",
              "      --hover-bg-color: #E2EBFA;\n",
              "      --hover-fill-color: #174EA6;\n",
              "      --disabled-fill-color: #AAA;\n",
              "      --disabled-bg-color: #DDD;\n",
              "  }\n",
              "\n",
              "  [theme=dark] .colab-df-quickchart {\n",
              "      --bg-color: #3B4455;\n",
              "      --fill-color: #D2E3FC;\n",
              "      --hover-bg-color: #434B5C;\n",
              "      --hover-fill-color: #FFFFFF;\n",
              "      --disabled-bg-color: #3B4455;\n",
              "      --disabled-fill-color: #666;\n",
              "  }\n",
              "\n",
              "  .colab-df-quickchart {\n",
              "    background-color: var(--bg-color);\n",
              "    border: none;\n",
              "    border-radius: 50%;\n",
              "    cursor: pointer;\n",
              "    display: none;\n",
              "    fill: var(--fill-color);\n",
              "    height: 32px;\n",
              "    padding: 0;\n",
              "    width: 32px;\n",
              "  }\n",
              "\n",
              "  .colab-df-quickchart:hover {\n",
              "    background-color: var(--hover-bg-color);\n",
              "    box-shadow: 0 1px 2px rgba(60, 64, 67, 0.3), 0 1px 3px 1px rgba(60, 64, 67, 0.15);\n",
              "    fill: var(--button-hover-fill-color);\n",
              "  }\n",
              "\n",
              "  .colab-df-quickchart-complete:disabled,\n",
              "  .colab-df-quickchart-complete:disabled:hover {\n",
              "    background-color: var(--disabled-bg-color);\n",
              "    fill: var(--disabled-fill-color);\n",
              "    box-shadow: none;\n",
              "  }\n",
              "\n",
              "  .colab-df-spinner {\n",
              "    border: 2px solid var(--fill-color);\n",
              "    border-color: transparent;\n",
              "    border-bottom-color: var(--fill-color);\n",
              "    animation:\n",
              "      spin 1s steps(1) infinite;\n",
              "  }\n",
              "\n",
              "  @keyframes spin {\n",
              "    0% {\n",
              "      border-color: transparent;\n",
              "      border-bottom-color: var(--fill-color);\n",
              "      border-left-color: var(--fill-color);\n",
              "    }\n",
              "    20% {\n",
              "      border-color: transparent;\n",
              "      border-left-color: var(--fill-color);\n",
              "      border-top-color: var(--fill-color);\n",
              "    }\n",
              "    30% {\n",
              "      border-color: transparent;\n",
              "      border-left-color: var(--fill-color);\n",
              "      border-top-color: var(--fill-color);\n",
              "      border-right-color: var(--fill-color);\n",
              "    }\n",
              "    40% {\n",
              "      border-color: transparent;\n",
              "      border-right-color: var(--fill-color);\n",
              "      border-top-color: var(--fill-color);\n",
              "    }\n",
              "    60% {\n",
              "      border-color: transparent;\n",
              "      border-right-color: var(--fill-color);\n",
              "    }\n",
              "    80% {\n",
              "      border-color: transparent;\n",
              "      border-right-color: var(--fill-color);\n",
              "      border-bottom-color: var(--fill-color);\n",
              "    }\n",
              "    90% {\n",
              "      border-color: transparent;\n",
              "      border-bottom-color: var(--fill-color);\n",
              "    }\n",
              "  }\n",
              "</style>\n",
              "\n",
              "  <script>\n",
              "    async function quickchart(key) {\n",
              "      const quickchartButtonEl =\n",
              "        document.querySelector('#' + key + ' button');\n",
              "      quickchartButtonEl.disabled = true;  // To prevent multiple clicks.\n",
              "      quickchartButtonEl.classList.add('colab-df-spinner');\n",
              "      try {\n",
              "        const charts = await google.colab.kernel.invokeFunction(\n",
              "            'suggestCharts', [key], {});\n",
              "      } catch (error) {\n",
              "        console.error('Error during call to suggestCharts:', error);\n",
              "      }\n",
              "      quickchartButtonEl.classList.remove('colab-df-spinner');\n",
              "      quickchartButtonEl.classList.add('colab-df-quickchart-complete');\n",
              "    }\n",
              "    (() => {\n",
              "      let quickchartButtonEl =\n",
              "        document.querySelector('#df-7b31b8be-718c-49e7-91d9-5ff241254b62 button');\n",
              "      quickchartButtonEl.style.display =\n",
              "        google.colab.kernel.accessAllowed ? 'block' : 'none';\n",
              "    })();\n",
              "  </script>\n",
              "</div>\n",
              "\n",
              "    </div>\n",
              "  </div>\n"
            ],
            "application/vnd.google.colaboratory.intrinsic+json": {
              "type": "dataframe",
              "summary": "{\n  \"name\": \"get_ipython()\",\n  \"rows\": 10,\n  \"fields\": [\n    {\n      \"column\": \"event_timestamp\",\n      \"properties\": {\n        \"dtype\": \"date\",\n        \"min\": \"2025-08-28 19:47:14.899107+00:00\",\n        \"max\": \"2025-08-28 19:47:14.899146+00:00\",\n        \"num_unique_values\": 10,\n        \"samples\": [\n          \"2025-08-28 19:47:14.899112+00:00\",\n          \"2025-08-28 19:47:14.899142+00:00\",\n          \"2025-08-28 19:47:14.899125+00:00\"\n        ],\n        \"semantic_type\": \"\",\n        \"description\": \"\"\n      }\n    },\n    {\n      \"column\": \"user_id\",\n      \"properties\": {\n        \"dtype\": \"string\",\n        \"num_unique_values\": 8,\n        \"samples\": [\n          \"user_113\",\n          \"user_103\",\n          \"user_108\"\n        ],\n        \"semantic_type\": \"\",\n        \"description\": \"\"\n      }\n    },\n    {\n      \"column\": \"product_id\",\n      \"properties\": {\n        \"dtype\": \"string\",\n        \"num_unique_values\": 8,\n        \"samples\": [\n          \"product_2046\",\n          \"product_2005\",\n          \"product_2027\"\n        ],\n        \"semantic_type\": \"\",\n        \"description\": \"\"\n      }\n    },\n    {\n      \"column\": \"value\",\n      \"properties\": {\n        \"dtype\": \"number\",\n        \"std\": 29.990513611251586,\n        \"min\": 0.91,\n        \"max\": 88.59,\n        \"num_unique_values\": 10,\n        \"samples\": [\n          10.07,\n          43.96,\n          39.7\n        ],\n        \"semantic_type\": \"\",\n        \"description\": \"\"\n      }\n    }\n  ]\n}"
            }
          },
          "metadata": {},
          "execution_count": 11
        }
      ]
    },
    {
      "cell_type": "markdown",
      "source": [
        "### Create and Start the Continuous Query\n",
        "\n",
        "A continuous query is a special type of BigQuery job that you define once and it runs continuously in the background.\n",
        "\n",
        "This cell will start a continuous query job using the BigQuery DataFrames library. It takes the variables defined in previous cells—your PROJECT_ID, SERVICE_ACCOUNT_EMAIL, and TOPIC_ID—and uses them to create a live, streaming job."
      ],
      "metadata": {
        "id": "lqq4TuS8UKxn"
      }
    },
    {
      "cell_type": "code",
      "source": [
        "import bigframes\n",
        "import bigframes.pandas as bpd\n",
        "import bigframes.streaming as bst\n",
        "\n",
        "bigframes.options._bigquery_options.project = PROJECT_ID\n",
        "job_id_prefix = \"bq_cq_notebook_\" #Set the job prefix for your Job ID so that it is easy to find\n",
        "\n",
        "#Create the StreamingDataFrame from a BigQuery table, select certain columns, filter rows and preview the output\n",
        "sdf = bst.read_gbq_table(\"cq_source_dataset.user_clicks\")\n",
        "\n",
        "sdf = sdf[[\"event_timestamp\",\"user_id\", \"product_id\", \"value\"]]\n",
        "sdf = sdf[sdf[\"value\"] > 50]\n",
        "\n",
        "iso_format_string = '%Y-%m-%dT%H:%M:%E6S%z'\n",
        "event_timestamp_str = sdf[\"event_timestamp\"].dt.strftime(iso_format_string)\n",
        "user_id_str = sdf[\"user_id\"].astype(str)\n",
        "product_id_str = sdf[\"product_id\"].astype(str)\n",
        "value_str = sdf[\"value\"].astype(str)\n",
        "\n",
        "sdf[\"data\"] = (\n",
        "    '{\"timestamp\": \"'\n",
        "    + event_timestamp_str\n",
        "    + '\", \"user_id\": \"'\n",
        "    + user_id_str\n",
        "    + '\", \"product_id\": \"'\n",
        "    + product_id_str\n",
        "    + '\", \"value\": \"'\n",
        "    + value_str\n",
        "    + '\"}'\n",
        ")\n",
        "\n",
        "# 3. Select only the new \"data\" column to send to Pub/Sub.\n",
        "sdf = sdf[[\"data\"]]\n",
        "\n",
        "job = sdf.to_pubsub(\n",
        "        topic=TOPIC_ID,\n",
        "        service_account_email=SERVICE_ACCOUNT_EMAIL,\n",
        "        job_id=None,\n",
        "        job_id_prefix=job_id_prefix,\n",
        "    )"
      ],
      "metadata": {
        "id": "-Gegbj07F6g-",
        "colab": {
          "base_uri": "https://localhost:8080/"
        },
        "outputId": "24cf2c8e-7412-4a11-ae7f-f17efc246093"
      },
      "execution_count": 12,
      "outputs": [
        {
          "output_type": "stream",
          "name": "stderr",
          "text": [
            "/usr/local/lib/python3.10/dist-packages/bigframes/session/__init__.py:769: PreviewWarning: The bigframes.streaming module is a preview feature, and subject to\n",
            "change.\n",
            "  warnings.warn(msg, stacklevel=1, category=bfe.PreviewWarning)\n",
            "/usr/local/lib/python3.10/dist-packages/bigframes/streaming/dataframe.py:493: PreviewWarning: The bigframes.streaming module is a preview feature, and subject to\n",
            "change.\n",
            "  warnings.warn(msg, stacklevel=1, category=bfe.PreviewWarning)\n"
          ]
        }
      ]
    },
    {
      "cell_type": "markdown",
      "source": [
        "Confirm the continuous query has successfully started."
      ],
      "metadata": {
        "id": "nT_042Ss5tPb"
      }
    },
    {
      "cell_type": "code",
      "source": [
        "print(job.running())\n",
        "print(job.error_result)\n",
        "\n",
        "# Wait ~180 seconds, to give the BigQuery continuous query time to start up and begin to process incoming data.\n",
        "# Otherwise, subsequent cells may fail.\n",
        "time.sleep(180)"
      ],
      "metadata": {
        "id": "bdQemi6erhpX",
        "colab": {
          "base_uri": "https://localhost:8080/"
        },
        "outputId": "a918e4b2-6b26-45b7-d5a1-d4d27249aa7a"
      },
      "execution_count": 13,
      "outputs": [
        {
          "output_type": "stream",
          "name": "stdout",
          "text": [
            "True\n",
            "None\n"
          ]
        }
      ]
    },
    {
      "cell_type": "markdown",
      "source": [
        "### Read from Pub/Sub\n",
        "\n",
        "Let's manually pull data from our Pub/Sub subscription to verify the continuous query is successfully writing data to it.\n",
        "\n",
        "**NOTE**: It may take a couple of minutes for the continuous query to fully start up and begin to process incoming data."
      ],
      "metadata": {
        "id": "FKFQHrs-F8LS"
      }
    },
    {
      "cell_type": "code",
      "source": [
        "from google.cloud import pubsub_v1\n",
        "from concurrent.futures import TimeoutError\n",
        "import json\n",
        "\n",
        "# --- Configuration ---\n",
        "# How long to listen for messages\n",
        "timeout = 30.0\n",
        "# List to store received messages\n",
        "received_messages = []\n",
        "# Maximum number of messages to process before stopping\n",
        "max_messages_to_process = 10\n",
        "\n",
        "# Create a SubscriberClient\n",
        "subscriber = pubsub_v1.SubscriberClient()\n",
        "subscription_path = subscriber.subscription_path(PROJECT_ID, SUBSCRIPTION_ID)\n",
        "\n",
        "def callback(message):\n",
        "    \"\"\"A simple function called for each message received.\"\"\"\n",
        "    try:\n",
        "        # Decode the message data from bytes to a string\n",
        "        decoded_data = message.data.decode('utf-8')\n",
        "        print(f\"  -> Received raw message: {decoded_data}\")\n",
        "        # Append the raw string to our list\n",
        "        received_messages.append(decoded_data)\n",
        "        # Acknowledge the message so it's not sent again\n",
        "        message.ack()\n",
        "\n",
        "        # Stop listening if we've collected enough messages\n",
        "        if len(received_messages) >= max_messages_to_process:\n",
        "            streaming_pull_future.cancel()\n",
        "\n",
        "    except Exception as e:\n",
        "        print(f\"Error processing message: {e}\")\n",
        "        message.nack()\n",
        "\n",
        "print(f\"Listening for messages on {subscription_path}...\")\n",
        "print(f\"(Will stop after {max_messages_to_process} messages or {timeout} seconds)\")\n",
        "\n",
        "# The subscribe() method creates a background thread to pull messages.\n",
        "streaming_pull_future = subscriber.subscribe(subscription_path, callback=callback)\n",
        "\n",
        "# Wrap the call in a try/except block to handle the timeout.\n",
        "with subscriber:\n",
        "    try:\n",
        "        # This is a blocking call, waiting for the future to complete.\n",
        "        streaming_pull_future.result(timeout=timeout)\n",
        "    except TimeoutError:\n",
        "        streaming_pull_future.cancel()  # Trigger the shutdown.\n",
        "        streaming_pull_future.result()  # Block until the shutdown is complete.\n",
        "    except Exception as e:\n",
        "        print(f\"An error occurred: {e}\")\n",
        "        streaming_pull_future.cancel()\n",
        "\n",
        "print(\"\\n\" + \"-\" * 60)\n",
        "print(f\"Finished listening. Collected {len(received_messages)} messages.\")\n",
        "print(\"-\" * 60)\n",
        "\n",
        "if received_messages:\n",
        "    # Simply print the raw messages as they came in\n",
        "    for i, msg_str in enumerate(received_messages):\n",
        "        print(f\"Message {i+1}: {msg_str}\")\n",
        "else:\n",
        "    print(\"No messages were collected.\")"
      ],
      "metadata": {
        "id": "YwrTAw3iF9jR",
        "colab": {
          "base_uri": "https://localhost:8080/"
        },
        "outputId": "df6f2696-4ba3-472f-e6fd-4197e80a924a"
      },
      "execution_count": 14,
      "outputs": [
        {
          "output_type": "stream",
          "name": "stdout",
          "text": [
            "Listening for messages on projects/my-project/subscriptions/cq_results_viewer_sub...\n",
            "(Will stop after 10 messages or 30.0 seconds)\n",
            "  -> Received raw message: {\"timestamp\": \"2025-08-28T19:47:14.899022+0000\", \"user_id\": \"user_104\", \"product_id\": \"product_2048\", \"value\": \"83.52\"}\n",
            "  -> Received raw message: {\"timestamp\": \"2025-08-28T19:47:14.899035+0000\", \"user_id\": \"user_108\", \"product_id\": \"product_2030\", \"value\": \"90.33\"}\n",
            "  -> Received raw message: {\"timestamp\": \"2025-08-28T19:47:14.899044+0000\", \"user_id\": \"user_115\", \"product_id\": \"product_2044\", \"value\": \"50.93\"}\n",
            "  -> Received raw message: {\"timestamp\": \"2025-08-28T19:47:14.899048+0000\", \"user_id\": \"user_116\", \"product_id\": \"product_2020\", \"value\": \"91.88\"}  -> Received raw message: {\"timestamp\": \"2025-08-28T19:47:14.899052+0000\", \"user_id\": \"user_105\", \"product_id\": \"product_2045\", \"value\": \"86.9\"}\n",
            "  -> Received raw message: {\"timestamp\": \"2025-08-28T19:47:14.899057+0000\", \"user_id\": \"user_119\", \"product_id\": \"product_2019\", \"value\": \"53.24\"}\n",
            "  -> Received raw message: {\"timestamp\": \"2025-08-28T19:47:14.899061+0000\", \"user_id\": \"user_104\", \"product_id\": \"product_2024\", \"value\": \"81.14\"}\n",
            "\n",
            "  -> Received raw message: {\"timestamp\": \"2025-08-28T19:47:14.899065+0000\", \"user_id\": \"user_116\", \"product_id\": \"product_2045\", \"value\": \"79.29\"}\n",
            "  -> Received raw message: {\"timestamp\": \"2025-08-28T19:47:14.899074+0000\", \"user_id\": \"user_109\", \"product_id\": \"product_2026\", \"value\": \"94.91\"}\n",
            "  -> Received raw message: {\"timestamp\": \"2025-08-28T19:47:14.899090+0000\", \"user_id\": \"user_103\", \"product_id\": \"product_2047\", \"value\": \"92.73\"}\n",
            "  -> Received raw message: {\"timestamp\": \"2025-08-28T19:47:14.899095+0000\", \"user_id\": \"user_103\", \"product_id\": \"product_2021\", \"value\": \"73.62\"}\n",
            "  -> Received raw message: {\"timestamp\": \"2025-08-28T19:47:14.899107+0000\", \"user_id\": \"user_107\", \"product_id\": \"product_2007\", \"value\": \"53.02\"}\n",
            "  -> Received raw message: {\"timestamp\": \"2025-08-28T19:47:14.899116+0000\", \"user_id\": \"user_102\", \"product_id\": \"product_2031\", \"value\": \"78.77\"}\n",
            "  -> Received raw message: {\"timestamp\": \"2025-08-28T19:47:14.899129+0000\", \"user_id\": \"user_115\", \"product_id\": \"product_2025\", \"value\": \"53.32\"}\n",
            "  -> Received raw message: {\"timestamp\": \"2025-08-28T19:47:14.899133+0000\", \"user_id\": \"user_118\", \"product_id\": \"product_2043\", \"value\": \"88.59\"}\n",
            "\n",
            "------------------------------------------------------------\n",
            "Finished listening. Collected 15 messages.\n",
            "------------------------------------------------------------\n",
            "Message 1: {\"timestamp\": \"2025-08-28T19:47:14.899022+0000\", \"user_id\": \"user_104\", \"product_id\": \"product_2048\", \"value\": \"83.52\"}\n",
            "Message 2: {\"timestamp\": \"2025-08-28T19:47:14.899035+0000\", \"user_id\": \"user_108\", \"product_id\": \"product_2030\", \"value\": \"90.33\"}\n",
            "Message 3: {\"timestamp\": \"2025-08-28T19:47:14.899044+0000\", \"user_id\": \"user_115\", \"product_id\": \"product_2044\", \"value\": \"50.93\"}\n",
            "Message 4: {\"timestamp\": \"2025-08-28T19:47:14.899048+0000\", \"user_id\": \"user_116\", \"product_id\": \"product_2020\", \"value\": \"91.88\"}\n",
            "Message 5: {\"timestamp\": \"2025-08-28T19:47:14.899057+0000\", \"user_id\": \"user_119\", \"product_id\": \"product_2019\", \"value\": \"53.24\"}\n",
            "Message 6: {\"timestamp\": \"2025-08-28T19:47:14.899061+0000\", \"user_id\": \"user_104\", \"product_id\": \"product_2024\", \"value\": \"81.14\"}\n",
            "Message 7: {\"timestamp\": \"2025-08-28T19:47:14.899052+0000\", \"user_id\": \"user_105\", \"product_id\": \"product_2045\", \"value\": \"86.9\"}\n",
            "Message 8: {\"timestamp\": \"2025-08-28T19:47:14.899065+0000\", \"user_id\": \"user_116\", \"product_id\": \"product_2045\", \"value\": \"79.29\"}\n",
            "Message 9: {\"timestamp\": \"2025-08-28T19:47:14.899074+0000\", \"user_id\": \"user_109\", \"product_id\": \"product_2026\", \"value\": \"94.91\"}\n",
            "Message 10: {\"timestamp\": \"2025-08-28T19:47:14.899090+0000\", \"user_id\": \"user_103\", \"product_id\": \"product_2047\", \"value\": \"92.73\"}\n",
            "Message 11: {\"timestamp\": \"2025-08-28T19:47:14.899095+0000\", \"user_id\": \"user_103\", \"product_id\": \"product_2021\", \"value\": \"73.62\"}\n",
            "Message 12: {\"timestamp\": \"2025-08-28T19:47:14.899107+0000\", \"user_id\": \"user_107\", \"product_id\": \"product_2007\", \"value\": \"53.02\"}\n",
            "Message 13: {\"timestamp\": \"2025-08-28T19:47:14.899116+0000\", \"user_id\": \"user_102\", \"product_id\": \"product_2031\", \"value\": \"78.77\"}\n",
            "Message 14: {\"timestamp\": \"2025-08-28T19:47:14.899129+0000\", \"user_id\": \"user_115\", \"product_id\": \"product_2025\", \"value\": \"53.32\"}\n",
            "Message 15: {\"timestamp\": \"2025-08-28T19:47:14.899133+0000\", \"user_id\": \"user_118\", \"product_id\": \"product_2043\", \"value\": \"88.59\"}\n"
          ]
        }
      ]
    },
    {
      "cell_type": "markdown",
      "source": [
        "Feel free to run the synthetic generator again and re-pull Pub/Sub to observe new data is still being processed by the continuous query."
      ],
      "metadata": {
        "id": "HVcpC_mUZgBs"
      }
    },
    {
      "cell_type": "markdown",
      "metadata": {
        "id": "JxM1hI7X5RXU"
      },
      "source": [
        "### Recap\n",
        "\n",
        "In this notebook, you have successfully implemented a **BigQuery Streaming Reverse ETL** pipeline to Pub/Sub. You learned how to:\n",
        "\n",
        "*   Set up necessary Google Cloud resources, including a service account, Pub/Sub topic and subscription, and a BigQuery source table.\n",
        "*   Create a dedicated BigQuery CONTINUOUS slot reservation to run the continuous query.\n",
        "*   Simulate a real-time data stream into the BigQuery source table.\n",
        "*   Define and start a BigQuery continuous query using the BigFrames library to filter and transform data.\n",
        "*   Stream the results of the continuous query to a Pub/Sub topic.\n",
        "*   Verify the data ingestion into Pub/Sub by pulling messages from the subscription.\n",
        "\n",
        "This demonstrates a powerful pattern for delivering fresh, processed data from BigQuery to downstream operational systems and applications in real-time."
      ]
    },
    {
      "cell_type": "markdown",
      "metadata": {
        "id": "q_A4zzWousGx"
      },
      "source": [
        "\n",
        "---\n"
      ]
    },
    {
      "cell_type": "markdown",
      "metadata": {
        "id": "cleanup_md"
      },
      "source": [
        "# Cleaning Up\n",
        "\n",
        "To clean up all Google Cloud resources used in this project, you can [delete the Google Cloud project](https://cloud.google.com/resource-manager/docs/creating-managing-projects#shutting_down_projects) you used for the tutorial.\n",
        "\n",
        "Otherwise, you can delete the individual resources you created in this tutorial:"
      ]
    },
    {
      "cell_type": "code",
      "execution_count": 15,
      "metadata": {
        "id": "yRzpOQf_Wqqi",
        "colab": {
          "base_uri": "https://localhost:8080/"
        },
        "outputId": "9c9a10eb-4820-4f90-dd24-9bca36edfc7a"
      },
      "outputs": [
        {
          "output_type": "stream",
          "name": "stdout",
          "text": [
            "Stopping continuous query...\n",
            "Continuous query stopped.\n",
            "Deleting BigQuery dataset my-project.cq_source_dataset...\n",
            "Deleting Pub/Sub subscription cq_results_viewer_sub...\n",
            "Deleted subscription [projects/my-project/subscriptions/cq_results_viewer_sub].\n",
            "Deleting Pub/Sub topic cq_results_topic...\n",
            "Deleted topic [projects/my-project/topics/cq_results_topic].\n",
            "Deleting BigQuery reservation assignment projects/my-project/locations/US/reservations/cq-demo-reservation/assignments/cq-assignment...\n",
            "BigQuery error in rm operation: Failed to delete reservation assignment 'cq-demo-reservation.cq-\n",
            "assignment': No assignment found for project_id my-project, location US, assignment_id cq-\n",
            "assignment.\n",
            "Deleting BigQuery reservation projects/my-project/locations/US/reservations/cq-demo-reservation...\n",
            "Reservation 'cq-demo-reservation' successfully deleted.\n",
            "Deleting service account bq-continuous-query-demo-sa@my-project.iam.gserviceaccount.com...\n",
            "deleted service account [bq-continuous-query-demo-sa@my-project.iam.gserviceaccount.com]\n",
            "✅ Cleanup complete.\n"
          ]
        }
      ],
      "source": [
        "import time\n",
        "import threading\n",
        "\n",
        "# Stop the continuous query if it's running\n",
        "# Check if 'job' in local scope and is a Job object from bigframes.streaming\n",
        "if 'job' in locals() and hasattr(job, 'running') and job.running():\n",
        "    print(\"Stopping continuous query...\")\n",
        "    job.cancel()\n",
        "    print(\"Continuous query stopped.\")\n",
        "\n",
        "# Delete the BigQuery dataset (which includes the table)\n",
        "# The dataset name is 'cq_source_dataset' from cell 'ZR9S5lgpOGDr'\n",
        "print(f\"Deleting BigQuery dataset {PROJECT_ID}.cq_source_dataset...\")\n",
        "! bq rm -r -f {PROJECT_ID}:cq_source_dataset\n",
        "\n",
        "# Delete Pub/Sub subscription\n",
        "# The subscription ID is 'cq_results_viewer_sub' from cell 'yWKrcj-fMAh7'\n",
        "print(f\"Deleting Pub/Sub subscription {SUBSCRIPTION_ID}...\")\n",
        "! gcloud pubsub subscriptions delete {SUBSCRIPTION_ID} --quiet\n",
        "\n",
        "# Delete Pub/Sub topic\n",
        "# The topic ID is 'cq_results_topic' from cell 'yWKrcj-fMAh7'\n",
        "print(f\"Deleting Pub/Sub topic {TOPIC_ID}...\")\n",
        "! gcloud pubsub topics delete {TOPIC_ID} --quiet\n",
        "\n",
        "# Delete the BigQuery reservation assignment\n",
        "# The assignment name is 'cq-assignment' from cell '1JY3WhVBKT8c'\n",
        "print(f\"Deleting BigQuery reservation assignment projects/{PROJECT_ID}/locations/US/reservations/cq-demo-reservation/assignments/cq-assignment...\")\n",
        "! bq rm --location=us --project_id={PROJECT_ID} --reservation_assignment cq-demo-reservation.cq-assignment\n",
        "\n",
        "# Delete the BigQuery reservation\n",
        "# The reservation name is 'cq-demo-reservation' from cell '1JY3WhVBKT8c'\n",
        "print(f\"Deleting BigQuery reservation projects/{PROJECT_ID}/locations/US/reservations/cq-demo-reservation...\")\n",
        "! bq rm --location=us --project_id={PROJECT_ID} --reservation cq-demo-reservation\n",
        "\n",
        "# Delete the service account\n",
        "# The service account email is 'SERVICE_ACCOUNT_EMAIL' from cell 'perms_code'\n",
        "print(f\"Deleting service account {SERVICE_ACCOUNT_EMAIL}...\")\n",
        "! gcloud iam service-accounts delete {SERVICE_ACCOUNT_EMAIL} --quiet\n",
        "\n",
        "print(\"✅ Cleanup complete.\")"
      ]
    }
  ],
  "metadata": {
    "colab": {
      "collapsed_sections": [
        "auth_md"
      ],
      "provenance": [],
      "name": "Continuous_Queries_Streaming_Reverse_ETL_to_PubSub"
    },
    "kernelspec": {
      "display_name": "Python 3",
      "name": "python3"
    },
    "language_info": {
      "name": "python"
    }
  },
  "nbformat": 4,
  "nbformat_minor": 0
}